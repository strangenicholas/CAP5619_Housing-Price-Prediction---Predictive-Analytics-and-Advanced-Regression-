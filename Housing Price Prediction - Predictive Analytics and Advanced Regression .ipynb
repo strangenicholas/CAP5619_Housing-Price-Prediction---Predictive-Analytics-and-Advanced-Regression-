{
 "cells": [
  {
   "cell_type": "markdown",
   "id": "8e757679",
   "metadata": {},
   "source": [
    "# Predictive Analytics and Advanced Regression to Predict Home Values\n",
    "\n",
    "1. Which features of a home have the greatest positive impact on the home values?\n",
    "2. Which features of a home have the greatest negative impact on the home values?\n",
    "3. Which features could be discarded, saving on building costs?\n",
    "4. How much percentage resale value would an additional unit add to your home? 1 sqft, 1 room , … \n",
    "5. What feature formula predicts housing prices most accurately?\n",
    "\n",
    "\n",
    "https://www.kaggle.com/competitions/house-prices-advanced-regression-techniques/overview\n"
   ]
  },
  {
   "cell_type": "markdown",
   "id": "889652ee",
   "metadata": {},
   "source": [
    "### Import Modules/Packages"
   ]
  },
  {
   "cell_type": "code",
   "execution_count": 2,
   "id": "d87fda1a",
   "metadata": {},
   "outputs": [
    {
     "name": "stdout",
     "output_type": "stream",
     "text": [
      "The scikit-learn version is 1.0.2.\n",
      "The pandas version is 1.4.4\n",
      "The matplotlib version is 3.5.2\n",
      "The numpy version is 1.21.5\n"
     ]
    }
   ],
   "source": [
    "import sklearn\n",
    "print('The scikit-learn version is {}.'.format(sklearn.__version__))\n",
    "import pandas as pd\n",
    "print('The pandas version is {}'.format(pd.__version__))\n",
    "import matplotlib\n",
    "import matplotlib.pyplot as plt\n",
    "print('The matplotlib version is {}'.format(matplotlib.__version__))\n",
    "import numpy as np\n",
    "print('The numpy version is {}'.format(np.__version__))\n",
    "import seaborn as sns "
   ]
  },
  {
   "cell_type": "code",
   "execution_count": 14,
   "id": "83289418",
   "metadata": {
    "scrolled": false
   },
   "outputs": [
    {
     "name": "stdout",
     "output_type": "stream",
     "text": [
      "Train Data Shape:  (1450, 81)\n",
      "Test Data Shape:  (1440, 80)\n"
     ]
    }
   ],
   "source": [
    "df_house_train = pd.read_csv(r'C:\\Users\\nicho\\OneDrive\\UCF MS - FinTech\\CAP 5619\\House Prediction Data\\train.csv', low_memory=False)\n",
    "df_house_test = pd.read_csv(r'C:\\Users\\nicho\\OneDrive\\UCF MS - FinTech\\CAP 5619\\House Prediction Data\\test.csv', low_memory=False)\n",
    "\n",
    "# drop columns with all NaN values\n",
    "df_house_train.dropna(axis=1, how='all')\n",
    "df_house_test.dropna(axis=1, how='all')\n",
    "\n",
    "# limit to only residential properties \n",
    "residential = [\"FV\", \"RH\", \"RL\", \"RP\", \"RM\"]\n",
    "df_house_train = df_house_train[df_house_train['MSZoning'].isin(residential)] \n",
    "df_house_test = df_house_test[df_house_test['MSZoning'].isin(residential)] \n",
    "print (\"Train Data Shape: \", df_house_train.shape)\n",
    "print (\"Test Data Shape: \", df_house_test.shape)"
   ]
  },
  {
   "cell_type": "markdown",
   "id": "a66440d2",
   "metadata": {},
   "source": [
    "### Import Data (Train and Test)"
   ]
  },
  {
   "cell_type": "code",
   "execution_count": 15,
   "id": "df9d4193",
   "metadata": {
    "scrolled": true
   },
   "outputs": [
    {
     "data": {
      "text/html": [
       "<div>\n",
       "<style scoped>\n",
       "    .dataframe tbody tr th:only-of-type {\n",
       "        vertical-align: middle;\n",
       "    }\n",
       "\n",
       "    .dataframe tbody tr th {\n",
       "        vertical-align: top;\n",
       "    }\n",
       "\n",
       "    .dataframe thead th {\n",
       "        text-align: right;\n",
       "    }\n",
       "</style>\n",
       "<table border=\"1\" class=\"dataframe\">\n",
       "  <thead>\n",
       "    <tr style=\"text-align: right;\">\n",
       "      <th></th>\n",
       "      <th>Id</th>\n",
       "      <th>MSSubClass</th>\n",
       "      <th>MSZoning</th>\n",
       "      <th>LotFrontage</th>\n",
       "      <th>LotArea</th>\n",
       "      <th>Street</th>\n",
       "      <th>Alley</th>\n",
       "      <th>LotShape</th>\n",
       "      <th>LandContour</th>\n",
       "      <th>Utilities</th>\n",
       "      <th>...</th>\n",
       "      <th>PoolArea</th>\n",
       "      <th>PoolQC</th>\n",
       "      <th>Fence</th>\n",
       "      <th>MiscFeature</th>\n",
       "      <th>MiscVal</th>\n",
       "      <th>MoSold</th>\n",
       "      <th>YrSold</th>\n",
       "      <th>SaleType</th>\n",
       "      <th>SaleCondition</th>\n",
       "      <th>SalePrice</th>\n",
       "    </tr>\n",
       "  </thead>\n",
       "  <tbody>\n",
       "    <tr>\n",
       "      <th>0</th>\n",
       "      <td>1</td>\n",
       "      <td>60</td>\n",
       "      <td>RL</td>\n",
       "      <td>65.0</td>\n",
       "      <td>8450</td>\n",
       "      <td>Pave</td>\n",
       "      <td>NaN</td>\n",
       "      <td>Reg</td>\n",
       "      <td>Lvl</td>\n",
       "      <td>AllPub</td>\n",
       "      <td>...</td>\n",
       "      <td>0</td>\n",
       "      <td>NaN</td>\n",
       "      <td>NaN</td>\n",
       "      <td>NaN</td>\n",
       "      <td>0</td>\n",
       "      <td>2</td>\n",
       "      <td>2008</td>\n",
       "      <td>WD</td>\n",
       "      <td>Normal</td>\n",
       "      <td>208500</td>\n",
       "    </tr>\n",
       "    <tr>\n",
       "      <th>1</th>\n",
       "      <td>2</td>\n",
       "      <td>20</td>\n",
       "      <td>RL</td>\n",
       "      <td>80.0</td>\n",
       "      <td>9600</td>\n",
       "      <td>Pave</td>\n",
       "      <td>NaN</td>\n",
       "      <td>Reg</td>\n",
       "      <td>Lvl</td>\n",
       "      <td>AllPub</td>\n",
       "      <td>...</td>\n",
       "      <td>0</td>\n",
       "      <td>NaN</td>\n",
       "      <td>NaN</td>\n",
       "      <td>NaN</td>\n",
       "      <td>0</td>\n",
       "      <td>5</td>\n",
       "      <td>2007</td>\n",
       "      <td>WD</td>\n",
       "      <td>Normal</td>\n",
       "      <td>181500</td>\n",
       "    </tr>\n",
       "    <tr>\n",
       "      <th>2</th>\n",
       "      <td>3</td>\n",
       "      <td>60</td>\n",
       "      <td>RL</td>\n",
       "      <td>68.0</td>\n",
       "      <td>11250</td>\n",
       "      <td>Pave</td>\n",
       "      <td>NaN</td>\n",
       "      <td>IR1</td>\n",
       "      <td>Lvl</td>\n",
       "      <td>AllPub</td>\n",
       "      <td>...</td>\n",
       "      <td>0</td>\n",
       "      <td>NaN</td>\n",
       "      <td>NaN</td>\n",
       "      <td>NaN</td>\n",
       "      <td>0</td>\n",
       "      <td>9</td>\n",
       "      <td>2008</td>\n",
       "      <td>WD</td>\n",
       "      <td>Normal</td>\n",
       "      <td>223500</td>\n",
       "    </tr>\n",
       "    <tr>\n",
       "      <th>3</th>\n",
       "      <td>4</td>\n",
       "      <td>70</td>\n",
       "      <td>RL</td>\n",
       "      <td>60.0</td>\n",
       "      <td>9550</td>\n",
       "      <td>Pave</td>\n",
       "      <td>NaN</td>\n",
       "      <td>IR1</td>\n",
       "      <td>Lvl</td>\n",
       "      <td>AllPub</td>\n",
       "      <td>...</td>\n",
       "      <td>0</td>\n",
       "      <td>NaN</td>\n",
       "      <td>NaN</td>\n",
       "      <td>NaN</td>\n",
       "      <td>0</td>\n",
       "      <td>2</td>\n",
       "      <td>2006</td>\n",
       "      <td>WD</td>\n",
       "      <td>Abnorml</td>\n",
       "      <td>140000</td>\n",
       "    </tr>\n",
       "    <tr>\n",
       "      <th>4</th>\n",
       "      <td>5</td>\n",
       "      <td>60</td>\n",
       "      <td>RL</td>\n",
       "      <td>84.0</td>\n",
       "      <td>14260</td>\n",
       "      <td>Pave</td>\n",
       "      <td>NaN</td>\n",
       "      <td>IR1</td>\n",
       "      <td>Lvl</td>\n",
       "      <td>AllPub</td>\n",
       "      <td>...</td>\n",
       "      <td>0</td>\n",
       "      <td>NaN</td>\n",
       "      <td>NaN</td>\n",
       "      <td>NaN</td>\n",
       "      <td>0</td>\n",
       "      <td>12</td>\n",
       "      <td>2008</td>\n",
       "      <td>WD</td>\n",
       "      <td>Normal</td>\n",
       "      <td>250000</td>\n",
       "    </tr>\n",
       "  </tbody>\n",
       "</table>\n",
       "<p>5 rows × 81 columns</p>\n",
       "</div>"
      ],
      "text/plain": [
       "   Id  MSSubClass MSZoning  LotFrontage  LotArea Street Alley LotShape  \\\n",
       "0   1          60       RL         65.0     8450   Pave   NaN      Reg   \n",
       "1   2          20       RL         80.0     9600   Pave   NaN      Reg   \n",
       "2   3          60       RL         68.0    11250   Pave   NaN      IR1   \n",
       "3   4          70       RL         60.0     9550   Pave   NaN      IR1   \n",
       "4   5          60       RL         84.0    14260   Pave   NaN      IR1   \n",
       "\n",
       "  LandContour Utilities  ... PoolArea PoolQC Fence MiscFeature MiscVal MoSold  \\\n",
       "0         Lvl    AllPub  ...        0    NaN   NaN         NaN       0      2   \n",
       "1         Lvl    AllPub  ...        0    NaN   NaN         NaN       0      5   \n",
       "2         Lvl    AllPub  ...        0    NaN   NaN         NaN       0      9   \n",
       "3         Lvl    AllPub  ...        0    NaN   NaN         NaN       0      2   \n",
       "4         Lvl    AllPub  ...        0    NaN   NaN         NaN       0     12   \n",
       "\n",
       "  YrSold  SaleType  SaleCondition  SalePrice  \n",
       "0   2008        WD         Normal     208500  \n",
       "1   2007        WD         Normal     181500  \n",
       "2   2008        WD         Normal     223500  \n",
       "3   2006        WD        Abnorml     140000  \n",
       "4   2008        WD         Normal     250000  \n",
       "\n",
       "[5 rows x 81 columns]"
      ]
     },
     "execution_count": 15,
     "metadata": {},
     "output_type": "execute_result"
    }
   ],
   "source": [
    "df_house_train.head()"
   ]
  },
  {
   "cell_type": "markdown",
   "id": "3426ed26",
   "metadata": {},
   "source": [
    "### Train Data Sample"
   ]
  },
  {
   "cell_type": "markdown",
   "id": "fc87b519",
   "metadata": {},
   "source": [
    "### Column Data Types"
   ]
  },
  {
   "cell_type": "code",
   "execution_count": 16,
   "id": "5829912f",
   "metadata": {},
   "outputs": [
    {
     "name": "stdout",
     "output_type": "stream",
     "text": [
      "Id                 int64\n",
      "MSSubClass         int64\n",
      "MSZoning          object\n",
      "LotFrontage      float64\n",
      "LotArea            int64\n",
      "                  ...   \n",
      "MoSold             int64\n",
      "YrSold             int64\n",
      "SaleType          object\n",
      "SaleCondition     object\n",
      "SalePrice          int64\n",
      "Length: 81, dtype: object\n"
     ]
    }
   ],
   "source": [
    "print(df_house_train.dtypes)"
   ]
  },
  {
   "cell_type": "markdown",
   "id": "974a16d0",
   "metadata": {},
   "source": [
    "### Data Summary & Findings"
   ]
  },
  {
   "cell_type": "markdown",
   "id": "0964055d",
   "metadata": {},
   "source": [
    "#### Data Statistical Summary"
   ]
  },
  {
   "cell_type": "code",
   "execution_count": 17,
   "id": "f697f5fb",
   "metadata": {
    "scrolled": true
   },
   "outputs": [
    {
     "data": {
      "text/html": [
       "<div>\n",
       "<style scoped>\n",
       "    .dataframe tbody tr th:only-of-type {\n",
       "        vertical-align: middle;\n",
       "    }\n",
       "\n",
       "    .dataframe tbody tr th {\n",
       "        vertical-align: top;\n",
       "    }\n",
       "\n",
       "    .dataframe thead th {\n",
       "        text-align: right;\n",
       "    }\n",
       "</style>\n",
       "<table border=\"1\" class=\"dataframe\">\n",
       "  <thead>\n",
       "    <tr style=\"text-align: right;\">\n",
       "      <th></th>\n",
       "      <th>Id</th>\n",
       "      <th>MSSubClass</th>\n",
       "      <th>LotFrontage</th>\n",
       "      <th>LotArea</th>\n",
       "      <th>OverallQual</th>\n",
       "      <th>OverallCond</th>\n",
       "      <th>YearBuilt</th>\n",
       "      <th>YearRemodAdd</th>\n",
       "      <th>MasVnrArea</th>\n",
       "      <th>BsmtFinSF1</th>\n",
       "      <th>...</th>\n",
       "      <th>WoodDeckSF</th>\n",
       "      <th>OpenPorchSF</th>\n",
       "      <th>EnclosedPorch</th>\n",
       "      <th>3SsnPorch</th>\n",
       "      <th>ScreenPorch</th>\n",
       "      <th>PoolArea</th>\n",
       "      <th>MiscVal</th>\n",
       "      <th>MoSold</th>\n",
       "      <th>YrSold</th>\n",
       "      <th>SalePrice</th>\n",
       "    </tr>\n",
       "  </thead>\n",
       "  <tbody>\n",
       "    <tr>\n",
       "      <th>count</th>\n",
       "      <td>1450.000000</td>\n",
       "      <td>1450.000000</td>\n",
       "      <td>1191.000000</td>\n",
       "      <td>1450.000000</td>\n",
       "      <td>1450.000000</td>\n",
       "      <td>1450.000000</td>\n",
       "      <td>1450.000000</td>\n",
       "      <td>1450.000000</td>\n",
       "      <td>1442.000000</td>\n",
       "      <td>1450.000000</td>\n",
       "      <td>...</td>\n",
       "      <td>1450.000000</td>\n",
       "      <td>1450.000000</td>\n",
       "      <td>1450.000000</td>\n",
       "      <td>1450.000000</td>\n",
       "      <td>1450.000000</td>\n",
       "      <td>1450.000000</td>\n",
       "      <td>1450.000000</td>\n",
       "      <td>1450.000000</td>\n",
       "      <td>1450.000000</td>\n",
       "      <td>1450.000000</td>\n",
       "    </tr>\n",
       "    <tr>\n",
       "      <th>mean</th>\n",
       "      <td>731.364138</td>\n",
       "      <td>56.903448</td>\n",
       "      <td>70.052897</td>\n",
       "      <td>10523.831724</td>\n",
       "      <td>6.114483</td>\n",
       "      <td>5.582069</td>\n",
       "      <td>1971.593103</td>\n",
       "      <td>1985.049655</td>\n",
       "      <td>104.404300</td>\n",
       "      <td>445.162759</td>\n",
       "      <td>...</td>\n",
       "      <td>94.826897</td>\n",
       "      <td>46.537931</td>\n",
       "      <td>21.536552</td>\n",
       "      <td>3.433103</td>\n",
       "      <td>15.096552</td>\n",
       "      <td>2.777931</td>\n",
       "      <td>43.365517</td>\n",
       "      <td>6.312414</td>\n",
       "      <td>2007.812414</td>\n",
       "      <td>181654.942069</td>\n",
       "    </tr>\n",
       "    <tr>\n",
       "      <th>std</th>\n",
       "      <td>421.554345</td>\n",
       "      <td>42.265033</td>\n",
       "      <td>24.301013</td>\n",
       "      <td>10012.185355</td>\n",
       "      <td>1.372860</td>\n",
       "      <td>1.107330</td>\n",
       "      <td>30.022696</td>\n",
       "      <td>20.552319</td>\n",
       "      <td>181.486539</td>\n",
       "      <td>456.353871</td>\n",
       "      <td>...</td>\n",
       "      <td>125.560863</td>\n",
       "      <td>65.222761</td>\n",
       "      <td>60.838826</td>\n",
       "      <td>29.416948</td>\n",
       "      <td>55.893399</td>\n",
       "      <td>40.315051</td>\n",
       "      <td>497.636495</td>\n",
       "      <td>2.698244</td>\n",
       "      <td>1.326321</td>\n",
       "      <td>79176.485241</td>\n",
       "    </tr>\n",
       "    <tr>\n",
       "      <th>min</th>\n",
       "      <td>1.000000</td>\n",
       "      <td>20.000000</td>\n",
       "      <td>21.000000</td>\n",
       "      <td>1300.000000</td>\n",
       "      <td>1.000000</td>\n",
       "      <td>1.000000</td>\n",
       "      <td>1872.000000</td>\n",
       "      <td>1950.000000</td>\n",
       "      <td>0.000000</td>\n",
       "      <td>0.000000</td>\n",
       "      <td>...</td>\n",
       "      <td>0.000000</td>\n",
       "      <td>0.000000</td>\n",
       "      <td>0.000000</td>\n",
       "      <td>0.000000</td>\n",
       "      <td>0.000000</td>\n",
       "      <td>0.000000</td>\n",
       "      <td>0.000000</td>\n",
       "      <td>1.000000</td>\n",
       "      <td>2006.000000</td>\n",
       "      <td>37900.000000</td>\n",
       "    </tr>\n",
       "    <tr>\n",
       "      <th>25%</th>\n",
       "      <td>366.250000</td>\n",
       "      <td>20.000000</td>\n",
       "      <td>59.000000</td>\n",
       "      <td>7544.500000</td>\n",
       "      <td>5.000000</td>\n",
       "      <td>5.000000</td>\n",
       "      <td>1954.000000</td>\n",
       "      <td>1967.000000</td>\n",
       "      <td>0.000000</td>\n",
       "      <td>0.000000</td>\n",
       "      <td>...</td>\n",
       "      <td>0.000000</td>\n",
       "      <td>0.000000</td>\n",
       "      <td>0.000000</td>\n",
       "      <td>0.000000</td>\n",
       "      <td>0.000000</td>\n",
       "      <td>0.000000</td>\n",
       "      <td>0.000000</td>\n",
       "      <td>5.000000</td>\n",
       "      <td>2007.000000</td>\n",
       "      <td>130000.000000</td>\n",
       "    </tr>\n",
       "    <tr>\n",
       "      <th>50%</th>\n",
       "      <td>731.500000</td>\n",
       "      <td>50.000000</td>\n",
       "      <td>70.000000</td>\n",
       "      <td>9496.000000</td>\n",
       "      <td>6.000000</td>\n",
       "      <td>5.000000</td>\n",
       "      <td>1973.000000</td>\n",
       "      <td>1994.000000</td>\n",
       "      <td>0.000000</td>\n",
       "      <td>384.000000</td>\n",
       "      <td>...</td>\n",
       "      <td>0.000000</td>\n",
       "      <td>25.000000</td>\n",
       "      <td>0.000000</td>\n",
       "      <td>0.000000</td>\n",
       "      <td>0.000000</td>\n",
       "      <td>0.000000</td>\n",
       "      <td>0.000000</td>\n",
       "      <td>6.000000</td>\n",
       "      <td>2008.000000</td>\n",
       "      <td>163945.000000</td>\n",
       "    </tr>\n",
       "    <tr>\n",
       "      <th>75%</th>\n",
       "      <td>1096.750000</td>\n",
       "      <td>70.000000</td>\n",
       "      <td>80.000000</td>\n",
       "      <td>11613.500000</td>\n",
       "      <td>7.000000</td>\n",
       "      <td>6.000000</td>\n",
       "      <td>2001.000000</td>\n",
       "      <td>2004.000000</td>\n",
       "      <td>166.750000</td>\n",
       "      <td>713.750000</td>\n",
       "      <td>...</td>\n",
       "      <td>168.000000</td>\n",
       "      <td>68.000000</td>\n",
       "      <td>0.000000</td>\n",
       "      <td>0.000000</td>\n",
       "      <td>0.000000</td>\n",
       "      <td>0.000000</td>\n",
       "      <td>0.000000</td>\n",
       "      <td>8.000000</td>\n",
       "      <td>2009.000000</td>\n",
       "      <td>214000.000000</td>\n",
       "    </tr>\n",
       "    <tr>\n",
       "      <th>max</th>\n",
       "      <td>1460.000000</td>\n",
       "      <td>190.000000</td>\n",
       "      <td>313.000000</td>\n",
       "      <td>215245.000000</td>\n",
       "      <td>10.000000</td>\n",
       "      <td>9.000000</td>\n",
       "      <td>2010.000000</td>\n",
       "      <td>2010.000000</td>\n",
       "      <td>1600.000000</td>\n",
       "      <td>5644.000000</td>\n",
       "      <td>...</td>\n",
       "      <td>857.000000</td>\n",
       "      <td>547.000000</td>\n",
       "      <td>552.000000</td>\n",
       "      <td>508.000000</td>\n",
       "      <td>480.000000</td>\n",
       "      <td>738.000000</td>\n",
       "      <td>15500.000000</td>\n",
       "      <td>12.000000</td>\n",
       "      <td>2010.000000</td>\n",
       "      <td>755000.000000</td>\n",
       "    </tr>\n",
       "  </tbody>\n",
       "</table>\n",
       "<p>8 rows × 38 columns</p>\n",
       "</div>"
      ],
      "text/plain": [
       "                Id   MSSubClass  LotFrontage        LotArea  OverallQual  \\\n",
       "count  1450.000000  1450.000000  1191.000000    1450.000000  1450.000000   \n",
       "mean    731.364138    56.903448    70.052897   10523.831724     6.114483   \n",
       "std     421.554345    42.265033    24.301013   10012.185355     1.372860   \n",
       "min       1.000000    20.000000    21.000000    1300.000000     1.000000   \n",
       "25%     366.250000    20.000000    59.000000    7544.500000     5.000000   \n",
       "50%     731.500000    50.000000    70.000000    9496.000000     6.000000   \n",
       "75%    1096.750000    70.000000    80.000000   11613.500000     7.000000   \n",
       "max    1460.000000   190.000000   313.000000  215245.000000    10.000000   \n",
       "\n",
       "       OverallCond    YearBuilt  YearRemodAdd   MasVnrArea   BsmtFinSF1  ...  \\\n",
       "count  1450.000000  1450.000000   1450.000000  1442.000000  1450.000000  ...   \n",
       "mean      5.582069  1971.593103   1985.049655   104.404300   445.162759  ...   \n",
       "std       1.107330    30.022696     20.552319   181.486539   456.353871  ...   \n",
       "min       1.000000  1872.000000   1950.000000     0.000000     0.000000  ...   \n",
       "25%       5.000000  1954.000000   1967.000000     0.000000     0.000000  ...   \n",
       "50%       5.000000  1973.000000   1994.000000     0.000000   384.000000  ...   \n",
       "75%       6.000000  2001.000000   2004.000000   166.750000   713.750000  ...   \n",
       "max       9.000000  2010.000000   2010.000000  1600.000000  5644.000000  ...   \n",
       "\n",
       "        WoodDeckSF  OpenPorchSF  EnclosedPorch    3SsnPorch  ScreenPorch  \\\n",
       "count  1450.000000  1450.000000    1450.000000  1450.000000  1450.000000   \n",
       "mean     94.826897    46.537931      21.536552     3.433103    15.096552   \n",
       "std     125.560863    65.222761      60.838826    29.416948    55.893399   \n",
       "min       0.000000     0.000000       0.000000     0.000000     0.000000   \n",
       "25%       0.000000     0.000000       0.000000     0.000000     0.000000   \n",
       "50%       0.000000    25.000000       0.000000     0.000000     0.000000   \n",
       "75%     168.000000    68.000000       0.000000     0.000000     0.000000   \n",
       "max     857.000000   547.000000     552.000000   508.000000   480.000000   \n",
       "\n",
       "          PoolArea       MiscVal       MoSold       YrSold      SalePrice  \n",
       "count  1450.000000   1450.000000  1450.000000  1450.000000    1450.000000  \n",
       "mean      2.777931     43.365517     6.312414  2007.812414  181654.942069  \n",
       "std      40.315051    497.636495     2.698244     1.326321   79176.485241  \n",
       "min       0.000000      0.000000     1.000000  2006.000000   37900.000000  \n",
       "25%       0.000000      0.000000     5.000000  2007.000000  130000.000000  \n",
       "50%       0.000000      0.000000     6.000000  2008.000000  163945.000000  \n",
       "75%       0.000000      0.000000     8.000000  2009.000000  214000.000000  \n",
       "max     738.000000  15500.000000    12.000000  2010.000000  755000.000000  \n",
       "\n",
       "[8 rows x 38 columns]"
      ]
     },
     "execution_count": 17,
     "metadata": {},
     "output_type": "execute_result"
    }
   ],
   "source": [
    "df_house_train.describe()"
   ]
  },
  {
   "cell_type": "markdown",
   "id": "392531e2",
   "metadata": {},
   "source": [
    "#### Data Information"
   ]
  },
  {
   "cell_type": "code",
   "execution_count": 18,
   "id": "c38ad952",
   "metadata": {},
   "outputs": [
    {
     "name": "stdout",
     "output_type": "stream",
     "text": [
      "<class 'pandas.core.frame.DataFrame'>\n",
      "Int64Index: 1450 entries, 0 to 1459\n",
      "Data columns (total 81 columns):\n",
      " #   Column         Non-Null Count  Dtype  \n",
      "---  ------         --------------  -----  \n",
      " 0   Id             1450 non-null   int64  \n",
      " 1   MSSubClass     1450 non-null   int64  \n",
      " 2   MSZoning       1450 non-null   object \n",
      " 3   LotFrontage    1191 non-null   float64\n",
      " 4   LotArea        1450 non-null   int64  \n",
      " 5   Street         1450 non-null   object \n",
      " 6   Alley          89 non-null     object \n",
      " 7   LotShape       1450 non-null   object \n",
      " 8   LandContour    1450 non-null   object \n",
      " 9   Utilities      1450 non-null   object \n",
      " 10  LotConfig      1450 non-null   object \n",
      " 11  LandSlope      1450 non-null   object \n",
      " 12  Neighborhood   1450 non-null   object \n",
      " 13  Condition1     1450 non-null   object \n",
      " 14  Condition2     1450 non-null   object \n",
      " 15  BldgType       1450 non-null   object \n",
      " 16  HouseStyle     1450 non-null   object \n",
      " 17  OverallQual    1450 non-null   int64  \n",
      " 18  OverallCond    1450 non-null   int64  \n",
      " 19  YearBuilt      1450 non-null   int64  \n",
      " 20  YearRemodAdd   1450 non-null   int64  \n",
      " 21  RoofStyle      1450 non-null   object \n",
      " 22  RoofMatl       1450 non-null   object \n",
      " 23  Exterior1st    1450 non-null   object \n",
      " 24  Exterior2nd    1450 non-null   object \n",
      " 25  MasVnrType     1442 non-null   object \n",
      " 26  MasVnrArea     1442 non-null   float64\n",
      " 27  ExterQual      1450 non-null   object \n",
      " 28  ExterCond      1450 non-null   object \n",
      " 29  Foundation     1450 non-null   object \n",
      " 30  BsmtQual       1413 non-null   object \n",
      " 31  BsmtCond       1413 non-null   object \n",
      " 32  BsmtExposure   1412 non-null   object \n",
      " 33  BsmtFinType1   1413 non-null   object \n",
      " 34  BsmtFinSF1     1450 non-null   int64  \n",
      " 35  BsmtFinType2   1412 non-null   object \n",
      " 36  BsmtFinSF2     1450 non-null   int64  \n",
      " 37  BsmtUnfSF      1450 non-null   int64  \n",
      " 38  TotalBsmtSF    1450 non-null   int64  \n",
      " 39  Heating        1450 non-null   object \n",
      " 40  HeatingQC      1450 non-null   object \n",
      " 41  CentralAir     1450 non-null   object \n",
      " 42  Electrical     1449 non-null   object \n",
      " 43  1stFlrSF       1450 non-null   int64  \n",
      " 44  2ndFlrSF       1450 non-null   int64  \n",
      " 45  LowQualFinSF   1450 non-null   int64  \n",
      " 46  GrLivArea      1450 non-null   int64  \n",
      " 47  BsmtFullBath   1450 non-null   int64  \n",
      " 48  BsmtHalfBath   1450 non-null   int64  \n",
      " 49  FullBath       1450 non-null   int64  \n",
      " 50  HalfBath       1450 non-null   int64  \n",
      " 51  BedroomAbvGr   1450 non-null   int64  \n",
      " 52  KitchenAbvGr   1450 non-null   int64  \n",
      " 53  KitchenQual    1450 non-null   object \n",
      " 54  TotRmsAbvGrd   1450 non-null   int64  \n",
      " 55  Functional     1450 non-null   object \n",
      " 56  Fireplaces     1450 non-null   int64  \n",
      " 57  FireplaceQu    769 non-null    object \n",
      " 58  GarageType     1371 non-null   object \n",
      " 59  GarageYrBlt    1371 non-null   float64\n",
      " 60  GarageFinish   1371 non-null   object \n",
      " 61  GarageCars     1450 non-null   int64  \n",
      " 62  GarageArea     1450 non-null   int64  \n",
      " 63  GarageQual     1371 non-null   object \n",
      " 64  GarageCond     1371 non-null   object \n",
      " 65  PavedDrive     1450 non-null   object \n",
      " 66  WoodDeckSF     1450 non-null   int64  \n",
      " 67  OpenPorchSF    1450 non-null   int64  \n",
      " 68  EnclosedPorch  1450 non-null   int64  \n",
      " 69  3SsnPorch      1450 non-null   int64  \n",
      " 70  ScreenPorch    1450 non-null   int64  \n",
      " 71  PoolArea       1450 non-null   int64  \n",
      " 72  PoolQC         7 non-null      object \n",
      " 73  Fence          278 non-null    object \n",
      " 74  MiscFeature    52 non-null     object \n",
      " 75  MiscVal        1450 non-null   int64  \n",
      " 76  MoSold         1450 non-null   int64  \n",
      " 77  YrSold         1450 non-null   int64  \n",
      " 78  SaleType       1450 non-null   object \n",
      " 79  SaleCondition  1450 non-null   object \n",
      " 80  SalePrice      1450 non-null   int64  \n",
      "dtypes: float64(3), int64(35), object(43)\n",
      "memory usage: 928.9+ KB\n"
     ]
    }
   ],
   "source": [
    "df_house_train.info()"
   ]
  },
  {
   "cell_type": "markdown",
   "id": "aee683d7",
   "metadata": {},
   "source": [
    "#### Missing Data"
   ]
  },
  {
   "cell_type": "code",
   "execution_count": 19,
   "id": "a4e2fab4",
   "metadata": {},
   "outputs": [
    {
     "name": "stdout",
     "output_type": "stream",
     "text": [
      "MSZoning            0\n",
      "Street              0\n",
      "Alley            1361\n",
      "LotShape            0\n",
      "LandContour         0\n",
      "Utilities           0\n",
      "LotConfig           0\n",
      "LandSlope           0\n",
      "Neighborhood        0\n",
      "Condition1          0\n",
      "Condition2          0\n",
      "BldgType            0\n",
      "HouseStyle          0\n",
      "RoofStyle           0\n",
      "RoofMatl            0\n",
      "Exterior1st         0\n",
      "Exterior2nd         0\n",
      "MasVnrType          8\n",
      "ExterQual           0\n",
      "ExterCond           0\n",
      "Foundation          0\n",
      "BsmtQual           37\n",
      "BsmtCond           37\n",
      "BsmtExposure       38\n",
      "BsmtFinType1       37\n",
      "BsmtFinType2       38\n",
      "Heating             0\n",
      "HeatingQC           0\n",
      "CentralAir          0\n",
      "Electrical          1\n",
      "KitchenQual         0\n",
      "Functional          0\n",
      "FireplaceQu       681\n",
      "GarageType         79\n",
      "GarageFinish       79\n",
      "GarageQual         79\n",
      "GarageCond         79\n",
      "PavedDrive          0\n",
      "PoolQC           1443\n",
      "Fence            1172\n",
      "MiscFeature      1398\n",
      "SaleType            0\n",
      "SaleCondition       0\n",
      "dtype: int64\n",
      "Total number of missing values: 6913\n"
     ]
    }
   ],
   "source": [
    "print(df_house_train.select_dtypes(object).isna().sum())\n",
    "print(\"Total number of missing values:\",df_house_train.isna().sum().sum())"
   ]
  },
  {
   "cell_type": "markdown",
   "id": "cb642180",
   "metadata": {},
   "source": [
    "#### Correlation by feature"
   ]
  },
  {
   "cell_type": "code",
   "execution_count": 38,
   "id": "5908db11",
   "metadata": {
    "scrolled": true
   },
   "outputs": [
    {
     "name": "stdout",
     "output_type": "stream",
     "text": [
      "Id              -0.024353\n",
      "MSSubClass      -0.087487\n",
      "LotFrontage      0.354848\n",
      "LotArea          0.264715\n",
      "OverallQual      0.789031\n",
      "OverallCond     -0.089084\n",
      "YearBuilt        0.517602\n",
      "YearRemodAdd     0.501186\n",
      "MasVnrArea       0.475950\n",
      "BsmtFinSF1       0.384475\n",
      "BsmtFinSF2      -0.014145\n",
      "BsmtUnfSF        0.216152\n",
      "TotalBsmtSF      0.612088\n",
      "1stFlrSF         0.603300\n",
      "2ndFlrSF         0.319774\n",
      "LowQualFinSF    -0.018755\n",
      "GrLivArea        0.708658\n",
      "BsmtFullBath     0.224054\n",
      "BsmtHalfBath    -0.017561\n",
      "FullBath         0.556674\n",
      "HalfBath         0.280882\n",
      "BedroomAbvGr     0.162008\n",
      "KitchenAbvGr    -0.137825\n",
      "TotRmsAbvGrd     0.533355\n",
      "Fireplaces       0.463264\n",
      "GarageYrBlt      0.486058\n",
      "GarageCars       0.642135\n",
      "GarageArea       0.629831\n",
      "WoodDeckSF       0.320770\n",
      "OpenPorchSF      0.329491\n",
      "EnclosedPorch   -0.120765\n",
      "3SsnPorch        0.043807\n",
      "ScreenPorch      0.110540\n",
      "PoolArea         0.092396\n",
      "MiscVal         -0.021052\n",
      "MoSold           0.051987\n",
      "YrSold          -0.025391\n",
      "SalePrice        1.000000\n",
      "dtype: float64\n"
     ]
    }
   ],
   "source": [
    "# Pairwise Pearson correlations\n",
    "price_correlations = df_house_train.corrwith(df_house_train['SalePrice'])\n",
    "print(price_correlations)"
   ]
  },
  {
   "cell_type": "code",
   "execution_count": 87,
   "id": "8c0741c0",
   "metadata": {
    "scrolled": true
   },
   "outputs": [
    {
     "data": {
      "image/png": "[encoded data removed]",
      "text/plain": [
       "<Figure size 640x480 with 2 Axes>"
      ]
     },
     "metadata": {},
     "output_type": "display_data"
    }
   ],
   "source": [
    "correlation = df_house_train.corr()\n",
    "top_10_corr = correlation.nlargest(10, 'SalePrice')['SalePrice'].index\n",
    "cm = np.corrcoef(df_house_train[top_10_corr].values.T)\n",
    "correlation_hm = sns.heatmap(cm, annot=True, fmt='.2f', annot_kws={'size': 10}, yticklabels=top_10_corr.values, xticklabels=top_10_corr.values)"
   ]
  },
  {
   "cell_type": "markdown",
   "id": "033cf8cd",
   "metadata": {},
   "source": [
    "#### Building Type"
   ]
  },
  {
   "cell_type": "code",
   "execution_count": 22,
   "id": "d5914890",
   "metadata": {},
   "outputs": [
    {
     "data": {
      "image/png": "[encoded data removed]",
      "text/plain": [
       "<Figure size 640x480 with 1 Axes>"
      ]
     },
     "metadata": {},
     "output_type": "display_data"
    }
   ],
   "source": [
    "df_house_train['BldgType'].value_counts().head(10).plot(kind='bar', color='b')\n",
    "plt.title('BldgType');"
   ]
  },
  {
   "cell_type": "markdown",
   "id": "345d5439",
   "metadata": {},
   "source": [
    "### Results"
   ]
  },
  {
   "cell_type": "code",
   "execution_count": 23,
   "id": "c0583762",
   "metadata": {},
   "outputs": [
    {
     "name": "stdout",
     "output_type": "stream",
     "text": [
      "The average house price is $181,654.94\n"
     ]
    }
   ],
   "source": [
    "print('The average house price is', \"${:,.2f}\".format(df_house_train['SalePrice'].mean()))"
   ]
  },
  {
   "cell_type": "code",
   "execution_count": 24,
   "id": "2b10bd98",
   "metadata": {},
   "outputs": [
    {
     "name": "stdout",
     "output_type": "stream",
     "text": [
      "   YrSold  Count\n",
      "3    2009    336\n",
      "1    2007    328\n",
      "0    2006    312\n",
      "2    2008    302\n",
      "4    2010    172\n"
     ]
    }
   ],
   "source": [
    "ann_sales = df_house_train.groupby(['YrSold'])['SalePrice'].count().reset_index(\n",
    "  name='Count').sort_values(['Count'], ascending=False)\n",
    "print(ann_sales)"
   ]
  },
  {
   "cell_type": "markdown",
   "id": "7d0887e0",
   "metadata": {},
   "source": [
    "### Predictors"
   ]
  },
  {
   "cell_type": "markdown",
   "id": "f76b1f12",
   "metadata": {},
   "source": [
    "### Data Visualization "
   ]
  },
  {
   "cell_type": "code",
   "execution_count": 25,
   "id": "13f0d4e1",
   "metadata": {
    "scrolled": true
   },
   "outputs": [
    {
     "data": {
      "image/png": "[encoded data removed]",
      "text/plain": [
       "<Figure size 640x480 with 1 Axes>"
      ]
     },
     "metadata": {},
     "output_type": "display_data"
    }
   ],
   "source": [
    "# plot a scatter plot price vs area\n",
    "plt.scatter(df_house_train['SalePrice'], df_house_train['LotArea'])\n",
    "# set axis lables\n",
    "plt.xlabel(\"Area (sqft)\")\n",
    "plt.ylabel(\"Price ($)\")\n",
    "# set chart title\n",
    "plt.title(\"Price vs Area\")\n",
    "plt.show()"
   ]
  },
  {
   "cell_type": "markdown",
   "id": "9ab347e5",
   "metadata": {},
   "source": [
    "### Questions"
   ]
  },
  {
   "cell_type": "markdown",
   "id": "b4e55f0e",
   "metadata": {},
   "source": [
    "#### 1. Which features of a home have the greatest positive impact on the home values?"
   ]
  },
  {
   "cell_type": "code",
   "execution_count": 88,
   "id": "e63b2857",
   "metadata": {},
   "outputs": [
    {
     "name": "stdout",
     "output_type": "stream",
     "text": [
      "Index(['SalePrice', 'OverallQual', 'GrLivArea', 'GarageCars', 'GarageArea',\n",
      "       'TotalBsmtSF', '1stFlrSF', 'FullBath', 'TotRmsAbvGrd', 'YearBuilt'],\n",
      "      dtype='object')\n"
     ]
    }
   ],
   "source": [
    "print(top_10_corr)"
   ]
  },
  {
   "cell_type": "code",
   "execution_count": null,
   "id": "5a25321a",
   "metadata": {},
   "outputs": [],
   "source": []
  }
 ],
 "metadata": {
  "kernelspec": {
   "display_name": "Python 3 (ipykernel)",
   "language": "python",
   "name": "python3"
  },
  "language_info": {
   "codemirror_mode": {
    "name": "ipython",
    "version": 3
   },
   "file_extension": ".py",
   "mimetype": "text/x-python",
   "name": "python",
   "nbconvert_exporter": "python",
   "pygments_lexer": "ipython3",
   "version": "3.9.13"
  },
  "vscode": {
   "interpreter": {
    "hash": "43f221103f953d3e0d93840edd77be981e5a5e0e42edc048e3de5278c46a3390"
   }
  }
 },
 "nbformat": 4,
 "nbformat_minor": 5
}
